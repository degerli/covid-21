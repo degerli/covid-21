{
 "cells": [
  {
   "cell_type": "code",
   "execution_count": null,
   "metadata": {},
   "outputs": [],
   "source": [
    "#https://medium.com/@tomaspueyo/coronavirus-act-today-or-people-will-die-f4d3d9cd99ca"
   ]
  },
  {
   "cell_type": "code",
   "execution_count": 2,
   "metadata": {},
   "outputs": [],
   "source": [
    "import numpy as np\n",
    "import pandas as pd\n",
    "pd.set_option('display.max_columns', None)\n",
    "pd.set_option('display.max_rows', 20)\n",
    "import seaborn as sns\n",
    "import matplotlib.pyplot as plt\n",
    "cmap = plt.get_cmap('jet_r')\n",
    "import matplotlib.dates as mdates\n",
    "import warnings\n",
    "warnings.filterwarnings('ignore')\n",
    "from scipy.optimize import curve_fit\n",
    "import folium\n",
    "import branca\n",
    "%matplotlib inline"
   ]
  },
  {
   "cell_type": "code",
   "execution_count": 3,
   "metadata": {},
   "outputs": [
    {
     "data": {
      "text/plain": [
       "array([' Azerbaijan', 'Afghanistan', 'Albania', 'Algeria', 'Andorra',\n",
       "       'Antigua and Barbuda', 'Argentina', 'Armenia', 'Aruba',\n",
       "       'Australia', 'Austria', 'Azerbaijan', 'Bahrain', 'Bangladesh',\n",
       "       'Belarus', 'Belgium', 'Bhutan', 'Bolivia', 'Bosnia & Herzegovina',\n",
       "       'Brazil', 'Brunei', 'Bulgaria', 'Burkina Faso', 'Cambodia',\n",
       "       'Cameroon', 'Canada', 'Cayman Islands', 'Channel Islands', 'Chile',\n",
       "       'China', 'Colombia', 'Congo', 'Costa Rica', \"Cote d'Ivoire\",\n",
       "       'Croatia', 'Cuba', 'Curacao', 'Cyprus', 'Czech Republic',\n",
       "       'Denmark', 'Dominican Republic', 'Ecuador', 'Egypt', 'Estonia',\n",
       "       'Eswatini', 'Ethiopia', 'Faroe Islands', 'Finland', 'France',\n",
       "       'French Guiana', 'Gabon', 'Georgia', 'Germany', 'Ghana',\n",
       "       'Gibraltar', 'Greece', 'Guadeloupe', 'Guatemala', 'Guernsey',\n",
       "       'Guinea', 'Guyana', 'Honduras', 'Hong Kong', 'Hungary', 'Iceland',\n",
       "       'India', 'Indonesia', 'Iran', 'Iraq', 'Ireland', 'Israel', 'Italy',\n",
       "       'Ivory Coast', 'Jamaica', 'Japan', 'Jersey', 'Jordan',\n",
       "       'Kazakhstan', 'Kenya', 'Kuwait', 'Latvia', 'Lebanon',\n",
       "       'Liechtenstein', 'Lithuania', 'Luxembourg', 'Macau', 'Macedonia',\n",
       "       'Malaysia', 'Maldives', 'Malta', 'Martinique', 'Mauritania',\n",
       "       'Mexico', 'Moldova', 'Monaco', 'Mongolia', 'Morocco', 'Namibia',\n",
       "       'Nepal', 'Netherlands', 'New Zealand', 'Nigeria', 'North Ireland',\n",
       "       'Norway', 'Oman', 'Pakistan', 'Palestine', 'Panama', 'Paraguay',\n",
       "       'Peru', 'Philippines', 'Poland', 'Portugal', 'Qatar',\n",
       "       'Republic of Ireland', 'Reunion', 'Romania', 'Russia', 'Rwanda',\n",
       "       'Saint Barthelemy', 'Saint Lucia',\n",
       "       'Saint Vincent and the Grenadines', 'San Marino', 'Saudi Arabia',\n",
       "       'Senegal', 'Serbia', 'Seychelles', 'Ship', 'Singapore', 'Slovakia',\n",
       "       'Slovenia', 'South Korea', 'SouthAfrica', 'Spain', 'Sri Lanka',\n",
       "       'St. Martin', 'Sudan', 'Suriname', 'Sweden', 'Switzerland',\n",
       "       'Taiwan', 'Thailand', 'Togo', 'Trinidad and Tobago', 'Tunisia',\n",
       "       'Turkey', 'Ukraine', 'United Arab Emirates', 'United Kingdom',\n",
       "       'United States', 'Uruguay', 'Vatican City', 'Venezuela', 'Vietnam'],\n",
       "      dtype=object)"
      ]
     },
     "execution_count": 3,
     "metadata": {},
     "output_type": "execute_result"
    }
   ],
   "source": [
    "from data_covid_19_clean import df_countries, df_table, continent_dict\n",
    "#df_table = pd.read_csv('../input/covid_19_master.csv', parse_dates=['Date'])\n",
    "df_latest = df_table[df_table['Date'] == max(df_table['Date'])].reset_index()\n",
    "df_latest_grouped = df_latest.groupby('Country/Region')[\n",
    "    'Confirmed', 'Deaths', 'Recovered'].sum().reset_index()\n",
    "has_states = np.unique(df_table[df_table['Province/State']!='NA']['Country/Region'])\n",
    "has_states"
   ]
  },
  {
   "cell_type": "code",
   "execution_count": 5,
   "metadata": {},
   "outputs": [],
   "source": [
    "#df_table[df_table['Country/Region'] == 'Turkey']"
   ]
  },
  {
   "cell_type": "code",
   "execution_count": null,
   "metadata": {},
   "outputs": [],
   "source": [
    "pd.set_option('display.max_rows', 20)\n",
    "df_latest_grouped.sort_values(by='Confirmed', ascending=False)"
   ]
  },
  {
   "cell_type": "code",
   "execution_count": null,
   "metadata": {},
   "outputs": [],
   "source": [
    "# Worldwide cases\n",
    "plt.figure(figsize=(8, 6))\n",
    "cols = ['Confirmed', 'Deaths', 'Recovered', 'Active']\n",
    "country = 'China'\n",
    "#continent = 'Asia'\n",
    "for ic, col in enumerate(cols):\n",
    "    plt.plot(df_table.groupby('Date').sum()[col], '-', \n",
    "             c=cmap(np.arange(0, 1, 1./len(cols)))[ic], linewidth=4, label='World '+col)\n",
    "    plt.plot(df_table[df_table['Country/Region']==country].groupby('Date').sum()[\n",
    "        col], '--', c=cmap(np.arange(0, 1, 1./len(cols)))[ic], linewidth=3, label=country+' '+col)\n",
    "    #plt.plot(df_table[df_table['Continent']==continent].groupby('Date').sum()[\n",
    "    #    col], ':', c=cmap(np.arange(0, 1, 1./len(cols)))[ic], linewidth=3, label=continent+' '+col)\n",
    "    plt.plot(df_table[df_table['Country/Region']!=country].groupby('Date').sum()[\n",
    "        col], 'p', c=cmap(np.arange(0, 1, 1./len(cols)))[ic], linewidth=3, label='Outside '+country+' '+col)\n",
    "\n",
    "plt.title('Worldwide Cases')\n",
    "plt.xlabel('Date')\n",
    "plt.xticks(rotation=20)\n",
    "plt.ylabel('Cases')\n",
    "plt.grid()\n",
    "plt.legend()\n",
    "plt.savefig('../figs/world_cases.png')"
   ]
  },
  {
   "cell_type": "code",
   "execution_count": null,
   "metadata": {},
   "outputs": [],
   "source": [
    "# Cases per country\n",
    "plt.figure(figsize=(16, 6))\n",
    "Nc = [[1,10],[2,20]]\n",
    "for ifig in range(2):\n",
    "    plt.subplot(1, 2, ifig+1)\n",
    "    countries = df_latest_grouped.sort_values(by='Confirmed', ascending=False)['Country/Region'].values[Nc[ifig][0]:Nc[ifig][1]]\n",
    "    for ic, country in enumerate(countries):\n",
    "        df_c = df_table[df_table['Country/Region']==country]\n",
    "        if (country == 'Iran') or (country == 'South Korea'): continue\n",
    "        plt.plot(df_c.groupby('Date').sum()['Confirmed'], '-', c=cmap(np.arange(0, 1, 1./Nc[ifig][1]))[ic], \n",
    "                 label=country, linewidth=2)\n",
    "    plt.title('Cases per Country')\n",
    "    plt.xlabel('Date')\n",
    "    plt.xticks(rotation=20)\n",
    "    plt.ylabel('Worldwide Cases')\n",
    "    plt.grid()\n",
    "    plt.legend()"
   ]
  },
  {
   "cell_type": "code",
   "execution_count": null,
   "metadata": {
    "scrolled": false
   },
   "outputs": [],
   "source": [
    "# Recent Growth Rate\n",
    "d1 = '2020-03-10'\n",
    "d2 = '2020-03-11'\n",
    "countries = df_latest_grouped.sort_values(\n",
    "    by='Confirmed', ascending=False)['Country/Region'].values\n",
    "daily_growth_confirmed = {}\n",
    "df_growth = pd.DataFrame(columns=['Country', 'Growth', 'Confirmed'])\n",
    "for country in countries:\n",
    "    df_c = df_table[df_table['Country/Region']==country]\n",
    "    conf1 = df_c[df_c['Date']==d1]['Active'].sum()\n",
    "    conf2 = df_c[df_c['Date']==d2]['Active'].sum()\n",
    "    dg = 100*(conf2-conf1)/conf1\n",
    "    if (conf1>30):\n",
    "        daily_growth_confirmed[country] = dg\n",
    "        df_growth = df_growth.append(pd.DataFrame({'Country':[country], 'Growth':[dg], 'Confirmed':[conf2]}))\n",
    "df_growth = df_growth.sort_values(by='Growth', ascending=False)\n",
    "fig, ax = plt.subplots(figsize=(8, 8))\n",
    "y_pos = np.arange(len(df_growth['Country'].values))\n",
    "ax.barh(y_pos, df_growth['Growth'].values, align='center')\n",
    "ax.set_yticks(y_pos)\n",
    "ax.set_yticklabels(df_growth['Country'].values)\n",
    "ax.invert_yaxis()  # labels read top-to-bottom\n",
    "ax.set_title('Daily Change of Active Patients ' + d1 + ' and ' + d2)\n",
    "ax.set_xlabel('Percentage Change [%]')\n",
    "ax.xaxis.grid() # vertical lines\n",
    "plt.savefig('../figs/daily_growth.png')"
   ]
  },
  {
   "cell_type": "code",
   "execution_count": null,
   "metadata": {},
   "outputs": [],
   "source": [
    "# Very simple but not realistic forecasting\n",
    "delt = 0.01\n",
    "t = np.arange(1, 5, delt)\n",
    "plt.figure(figsize=(8, 6))\n",
    "Nc = 10\n",
    "for irow, row in enumerate(df_growth.iterrows()):\n",
    "    if (irow == 1) or (irow > Nc): continue\n",
    "    y = row[1]['Confirmed']*np.power(1.+row[1]['Growth']/100., t)\n",
    "    plt.plot(t, y, '-', linewidth=3, c=cmap(np.arange(0, 1, 1./(Nc+1)))[irow],\n",
    "             label=row[1]['Country'])\n",
    "plt.grid()\n",
    "plt.title('Forecasting with Exponential Growth (worst case)')\n",
    "plt.xlabel('Day')\n",
    "plt.ylabel('Cases')\n",
    "plt.legend()"
   ]
  },
  {
   "cell_type": "code",
   "execution_count": null,
   "metadata": {},
   "outputs": [],
   "source": [
    "# Chinese regions outside Hubei vs other countries\n",
    "country = 'China'\n",
    "df_c = df_table[df_table['Country/Region']==country]\n",
    "provinces = np.unique(df_c[df_c['Province/State']!='Hubei']['Province/State'])\n",
    "#fig, ax = plt.subplots(1, 2, sharey=False, figsize=(16, 8))\n",
    "plt.figure(figsize=(16, 8))\n",
    "for ip, province in enumerate(provinces):\n",
    "    df_p = df_c[df_c['Province/State']==province]\n",
    "    if ip == 0:\n",
    "        plt.subplot(1, 2, 1)\n",
    "        plt.plot(df_p['Date'], df_p['Confirmed'], '-k', linewidth=2, label='All states except Hubei')\n",
    "        plt.subplot(1, 2, 2)\n",
    "        plt.plot(df_p['Date'], df_p['Confirmed'], '-k', linewidth=2, label='All states except Hubei')\n",
    "    else:\n",
    "        plt.subplot(1, 2, 1)\n",
    "        plt.plot(df_p['Date'], df_p['Confirmed'], '-k', linewidth=2)\n",
    "        plt.subplot(1, 2, 2)\n",
    "        plt.plot(df_p['Date'], df_p['Confirmed'], '-k', linewidth=2)\n",
    "df_p = df_c[df_c['Province/State']=='Hubei']\n",
    "countries = ['Italy', 'Iran', 'South Korea', 'France', 'Germany', 'United States']\n",
    "cmap = plt.get_cmap('jet')(np.arange(0, 1, 1./(len(countries)+1)))\n",
    "for ic, country in enumerate(countries):\n",
    "    df_c = df_table[df_table['Country/Region']==country].groupby('Date').sum()\n",
    "    plt.subplot(1, 2, 1)\n",
    "    plt.plot(df_c.index, df_c['Confirmed'], '-', linewidth=4, label=country, c=cmap[ic])\n",
    "    plt.subplot(1, 2, 2)\n",
    "    plt.plot(df_c.index, df_c['Confirmed'], '-', linewidth=4, label=country, c=cmap[ic])\n",
    "plt.subplot(1, 2, 1)\n",
    "plt.plot(df_p['Date'], df_p['Confirmed'], c=cmap[-1], linewidth=4, label='Hubei')\n",
    "plt.title('Cases In All Chinese Provinces vs Other Countries')\n",
    "plt.xlabel('Date'); plt.xticks(rotation=20); plt.ylabel('Cases');plt.grid(); plt.legend()\n",
    "plt.legend()\n",
    "plt.subplot(1, 2, 2)\n",
    "plt.title('Cases In China Outside Hubei vs Other Countries')\n",
    "plt.xlabel('Date'); plt.xticks(rotation=20); plt.ylabel('Cases');plt.grid(); plt.legend()\n",
    "plt.savefig('../figs/hubei_vs_other.png')"
   ]
  },
  {
   "cell_type": "code",
   "execution_count": null,
   "metadata": {},
   "outputs": [],
   "source": [
    "# straight line\n",
    "def line(x, a, b):\n",
    "    return a*x + b"
   ]
  },
  {
   "cell_type": "code",
   "execution_count": null,
   "metadata": {},
   "outputs": [],
   "source": [
    "# Estimate true death rate\n",
    "country = 'China'\n",
    "province = 'Hubei'\n",
    "df_c = df_table[df_table['Country/Region']==country]\n",
    "df_p = df_c[df_c['Province/State']==province]\n",
    "df_p['Death_Closed'] = 100*df_p['Deaths']/(df_p['Closed'])\n",
    "df_p['Death_Total'] = 100*df_p['Deaths']/(df_p['Confirmed'])\n",
    "\n",
    "t = np.array(range(df_p.shape[0]))[-10:]+1\n",
    "popt_closed, pcov = curve_fit(line, t, df_p['Death_Closed'].values[-10:], sigma=1./np.power(t, 2))\n",
    "popt_total, pcov = curve_fit(line, t, df_p['Death_Total'].values[-10:], sigma=1./np.power(t, 2))\n",
    "death_true = -(popt_closed[1]-popt_total[1])/(popt_closed[0]-popt_total[0])*popt_closed[0]+popt_closed[1]\n",
    "plt.figure(figsize=(16, 6))\n",
    "plt.subplot(1, 2, 1)\n",
    "plt.plot(df_p['Date'], df_p['Death_Closed'], '-b', linewidth=3, label='Death/Closed')\n",
    "plt.plot(df_p['Date'], df_p['Death_Total'],  '-r', linewidth=3, label='Death/Total')\n",
    "#plt.plot(df_p['Date'].values[-10:], line(t, popt_closed[0], popt_closed[1]), '--b', linewidth=3)\n",
    "#plt.plot(df_p['Date'].values[-10:], line(t, popt_total[0], popt_total[1]), '--r', linewidth=3)\n",
    "plt.title('Death Rates In {:s}: %{:3.2f}'.format(province, death_true))\n",
    "plt.xlabel('Date'); plt.xticks(rotation=20); plt.ylabel('Percentage'); plt.ylim([0, 35]); plt.grid(); plt.legend()\n",
    "\n",
    "df_p = df_c[df_c['Province/State']!=province]\n",
    "df_p = df_p.groupby('Date').sum()\n",
    "df_p['Death_Closed'] = 100*df_p['Deaths']/(df_p['Closed'])\n",
    "df_p['Death_Total'] = 100*df_p['Deaths']/(df_p['Confirmed'])\n",
    "popt_closed, pcov = curve_fit(line, t, df_p['Death_Closed'].values[-10:], sigma=1./np.power(t, 2))\n",
    "popt_total, pcov = curve_fit(line, t, df_p['Death_Total'].values[-10:], sigma=1./np.power(t, 2))\n",
    "death_true = -(popt_closed[1]-popt_total[1])/(popt_closed[0]-popt_total[0])*popt_closed[0]+popt_closed[1]\n",
    "plt.subplot(1, 2, 2)\n",
    "plt.plot(df_p.index, df_p['Death_Closed'], '-b', linewidth=3, label='Death/Closed')\n",
    "plt.plot(df_p.index, df_p['Death_Total'],  '-r', linewidth=3, label='Death/Total')\n",
    "#plt.title('Death Rates in Chinese Provinces Outside {:s}: %{0:.2f}'.format(province, death_true))\n",
    "plt.title('Death Rates In {:s} Outside {:s}: %{:3.2f}'.format(country, province, death_true))\n",
    "plt.xlabel('Date'); plt.xticks(rotation=20); plt.ylabel('Percentage'); plt.ylim([0, 35]); plt.grid(); plt.legend()\n",
    "plt.savefig('../figs/' + country + '_death_rate.png')"
   ]
  },
  {
   "cell_type": "code",
   "execution_count": null,
   "metadata": {},
   "outputs": [],
   "source": [
    "Nlast = 15\n",
    "plt.figure(figsize=(8, 6))\n",
    "country = 'South Korea'\n",
    "df_c = df_table[df_table['Country/Region']==country].groupby('Date').sum()\n",
    "t = np.array(range(df_c.shape[0]))[-Nlast:]+1\n",
    "df_c['Death_Closed'] = 100*df_c['Deaths']/(df_c['Confirmed']-df_c['Active'])\n",
    "df_c['Death_Total'] = 100*df_c['Deaths']/(df_c['Confirmed'])\n",
    "indx_closed = np.where(np.isnan(df_c['Death_Closed'].values[-Nlast:])*(-1)+1)\n",
    "indx_total = np.where(np.isnan(df_c['Death_Total'].values[-Nlast:])*(-1)+1)\n",
    "popt_closed, pcov = curve_fit(line, t[indx_closed], df_c['Death_Closed'].values[-Nlast:][indx_closed], sigma=1./df_c['Closed'].values[-Nlast:][indx_closed])\n",
    "popt_total, pcov = curve_fit(line, t[indx_total], df_c['Death_Total'].values[-Nlast:][indx_total], sigma=1./df_c['Confirmed'].values[-Nlast:][indx_total])\n",
    "death_true = -(popt_closed[1]-popt_total[1])/(popt_closed[0]-popt_total[0])*popt_closed[0]+popt_closed[1]\n",
    "death_true = -(popt_closed[1]-popt_total[1])/(popt_closed[0]-popt_total[0])*popt_closed[0]+popt_closed[1]\n",
    "plt.plot(df_c.index, df_c['Death_Closed'], '-b', linewidth=3, label='Death/Closed')\n",
    "plt.plot(df_c.index, df_c['Death_Total'],  '-r', linewidth=3, label='Death/Total')\n",
    "plt.title('Death Rates in {:s}: %{:3.2f}'.format(country, death_true))\n",
    "plt.xlabel('Date')\n",
    "plt.xticks(rotation=20)\n",
    "plt.ylabel('Percentage')\n",
    "plt.legend()\n",
    "plt.grid()\n",
    "plt.savefig('../figs/' + country + '_death_rate.png')"
   ]
  },
  {
   "cell_type": "code",
   "execution_count": null,
   "metadata": {},
   "outputs": [],
   "source": [
    "Nlast = 15\n",
    "countries = ['China', 'Italy', 'Iran', 'South Korea','Australia', 'Ship', 'Japan', 'Taiwan']\n",
    "nx = np.ceil(np.sqrt(len(countries)))\n",
    "ny = nx\n",
    "plt.figure(figsize=(8*nx, 8*ny))\n",
    "for ic, country in enumerate(countries):\n",
    "    plt.subplot(nx, ny, ic+1)\n",
    "    df_c = df_table[df_table['Country/Region']==country].groupby('Date').sum()\n",
    "    t = np.array(range(df_c.shape[0]))[-Nlast:]+1\n",
    "    df_c['Death_Closed'] = 100*df_c['Deaths']/(df_c['Confirmed']-df_c['Active'])\n",
    "    df_c['Death_Total'] = 100*df_c['Deaths']/(df_c['Confirmed'])\n",
    "    indx_closed = np.where(np.isnan(df_c['Death_Closed'].values[-Nlast:])*(-1)+1)\n",
    "    indx_total = np.where(np.isnan(df_c['Death_Total'].values[-Nlast:])*(-1)+1)\n",
    "    popt_closed, pcov = curve_fit(line, t[indx_closed], df_c['Death_Closed'].values[-Nlast:][indx_closed], sigma=1./df_c['Closed'].values[-Nlast:][indx_closed])\n",
    "    popt_total, pcov = curve_fit(line, t[indx_total], df_c['Death_Total'].values[-Nlast:][indx_total], sigma=1./df_c['Confirmed'].values[-Nlast:][indx_total])\n",
    "    death_true = -(popt_closed[1]-popt_total[1])/(popt_closed[0]-popt_total[0])*popt_closed[0]+popt_closed[1]\n",
    "    plt.plot(df_c.index, df_c['Death_Closed'], '-b', linewidth=3, label='Death/Closed')\n",
    "    plt.plot(df_c.index, df_c['Death_Total'],  '-r', linewidth=3, label='Death/Total')\n",
    "    plt.plot(df_c.index[-Nlast:], line(t, popt_closed[0], popt_closed[1]), '--b', linewidth=5)\n",
    "    plt.plot(df_c.index[-Nlast:], line(t, popt_total[0], popt_total[1]), '--r', linewidth=5)\n",
    "    plt.title('Death Rates in {:s}: %{:3.2f}'.format(country, death_true))\n",
    "    plt.xlabel('Date')\n",
    "    plt.xticks(rotation=20)\n",
    "    plt.ylabel('Percentage')\n",
    "    plt.legend()\n",
    "    plt.grid()\n",
    "plt.savefig('../figs/countries_death_rate.png')"
   ]
  },
  {
   "cell_type": "code",
   "execution_count": null,
   "metadata": {},
   "outputs": [],
   "source": [
    "Nlast = 20\n",
    "countries = df_latest_grouped.sort_values(by='Confirmed', ascending=False)['Country/Region'].values[:50]\n",
    "df_death = pd.DataFrame(columns=['Country', 'Death_Rate'])\n",
    "for ic, country in enumerate(countries):\n",
    "    df_c = df_table[df_table['Country/Region']==country].groupby('Date').sum()\n",
    "    t = np.array(range(df_c.shape[0]))[-Nlast:]+1\n",
    "    df_c['Death_Closed'] = 100*df_c['Deaths']/(df_c['Closed'])\n",
    "    df_c['Death_Total'] = 100*df_c['Deaths']/(df_c['Confirmed'])\n",
    "    indx_closed = np.where(np.isnan(df_c['Death_Closed'].values[-Nlast:])*(-1)+1)\n",
    "    indx_total = np.where(np.isnan(df_c['Death_Total'].values[-Nlast:])*(-1)+1)\n",
    "    if (len(indx_closed[0]) < 10) or (df_c['Closed'].max() < 10):\n",
    "        continue;\n",
    "    popt_closed, pcov = curve_fit(line, t[indx_closed], df_c['Death_Closed'].values[-Nlast:][indx_closed], sigma=1./df_c['Closed'].values[-Nlast:][indx_closed])\n",
    "    popt_total, pcov = curve_fit(line, t[indx_total], df_c['Death_Total'].values[-Nlast:][indx_total], sigma=1./df_c['Confirmed'].values[-Nlast:][indx_total])\n",
    "    death_true = -(popt_closed[1]-popt_total[1])/(popt_closed[0]-popt_total[0])*popt_closed[0]+popt_closed[1]\n",
    "    df_death = df_death.append(pd.DataFrame({'Country':[country], 'Death_Rate':[death_true]}))\n",
    "df_death"
   ]
  },
  {
   "cell_type": "code",
   "execution_count": null,
   "metadata": {},
   "outputs": [],
   "source": []
  },
  {
   "cell_type": "code",
   "execution_count": null,
   "metadata": {},
   "outputs": [],
   "source": []
  },
  {
   "cell_type": "code",
   "execution_count": null,
   "metadata": {},
   "outputs": [],
   "source": [
    "#df_full = df.groupby(['Country/Region', 'Province/State']).agg({\n",
    "#    'Confirmed':'max', 'Deaths':'max', 'Recovered':'max','Lat':'mean', 'Long':'mean'})"
   ]
  },
  {
   "cell_type": "code",
   "execution_count": null,
   "metadata": {},
   "outputs": [],
   "source": [
    "r = 100+(np.log10(df_latest['Confirmed']))*2e4\n",
    "colorscale = branca.colormap.linear.YlOrRd_09.scale(0, np.max(r.values))"
   ]
  },
  {
   "cell_type": "code",
   "execution_count": null,
   "metadata": {},
   "outputs": [],
   "source": [
    "m = folium.Map(location=[0, 0], tiles='Stamen Toner',\n",
    "               min_zoom=1, max_zoom=10, zoom_start=1)\n",
    "for i in range(df_latest.shape[0]):\n",
    "    folium.Circle(location=[df_latest.iloc[i]['Lat'], df_latest.iloc[i]['Long']],\n",
    "                  radius=r[i], color='red', \n",
    "                  tooltip = '<li><bold>Country: ' + df_latest.iloc[i]['Country/Region'] + '</bold</li>' + \n",
    "                  '<li><bold>Province: ' + df_latest.iloc[i]['Province/State'] + '</bold</li>' +  \n",
    "                  '<li><bold>Lat: ' + str(df_latest.iloc[i]['Lat']) + '</bold</li>' +  \n",
    "                  '<li><bold>Long: ' + str(df_latest.iloc[i]['Long']) + '</bold</li>' +  \n",
    "                  '<li><bold><font color=\"red\">Confirmed: ' + str(df_latest.iloc[i]['Confirmed']) + '</font></bold</li>' + \n",
    "                  '<li><bold>Deaths: ' + str(df_latest.iloc[i]['Deaths']) + '</bold</li>' + \n",
    "                  '<li><bold><font color=\"green\">Recovered: ' + str(df_latest.iloc[i]['Recovered']) + '</font></bold</li>',\n",
    "                  fill_color='red', opacity=1\n",
    "                 ).add_to(m)\n",
    "m"
   ]
  },
  {
   "cell_type": "code",
   "execution_count": null,
   "metadata": {},
   "outputs": [],
   "source": []
  },
  {
   "cell_type": "code",
   "execution_count": null,
   "metadata": {},
   "outputs": [],
   "source": []
  }
 ],
 "metadata": {
  "kernelspec": {
   "display_name": "Python 3",
   "language": "python",
   "name": "python3"
  },
  "language_info": {
   "codemirror_mode": {
    "name": "ipython",
    "version": 3
   },
   "file_extension": ".py",
   "mimetype": "text/x-python",
   "name": "python",
   "nbconvert_exporter": "python",
   "pygments_lexer": "ipython3",
   "version": "3.6.9"
  }
 },
 "nbformat": 4,
 "nbformat_minor": 2
}
